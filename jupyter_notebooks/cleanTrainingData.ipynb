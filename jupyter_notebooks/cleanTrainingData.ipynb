{
 "cells": [
  {
   "cell_type": "code",
   "execution_count": 2,
   "id": "b560eca7-cc54-4310-9a39-26b1653d90f5",
   "metadata": {},
   "outputs": [],
   "source": [
    "import argparse, json, os, re, sys\n",
    "import numpy as np\n",
    "import pandas as pd"
   ]
  },
  {
   "cell_type": "code",
   "execution_count": 3,
   "id": "e14f9bc7-9c3e-4d93-a578-36e79778317d",
   "metadata": {},
   "outputs": [
    {
     "name": "stderr",
     "output_type": "stream",
     "text": [
      "C:\\Users\\cbreu\\AppData\\Local\\Temp\\ipykernel_149420\\419435829.py:3: DtypeWarning: Columns (13,14) have mixed types. Specify dtype option on import or set low_memory=False.\n",
      "  df = pd.read_csv(d, sep=\"\\t\", na_values=\".\")\n"
     ]
    }
   ],
   "source": [
    "# Input data\n",
    "d = \"C:/test/data/9_clean_in_py/trainingData.clean.tsv.gz\"\n",
    "df = pd.read_csv(d, sep=\"\\t\", na_values=\".\")"
   ]
  },
  {
   "cell_type": "code",
   "execution_count": 4,
   "id": "164a4b66-8218-46f8-a793-15bb8faaae9b",
   "metadata": {},
   "outputs": [],
   "source": [
    "# Step 1: Clean transition/transversions\n",
    "\n",
    "def ti_flag(v: str):\n",
    "    '''\n",
    "    Transition/transversion > 1/0\n",
    "    Data: convert 'ti'/'tv'/'na' to numeric; ti=1, tv=0, na -> np.nan\n",
    "    '''\n",
    "    if v == \"ti\": return 1.0\n",
    "    elif v == \"tv\": return 0.0\n",
    "    else:\n",
    "        return -1\n",
    "    return np.nan"
   ]
  },
  {
   "cell_type": "code",
   "execution_count": 5,
   "id": "33d0efb0-b854-4f67-b142-0e532d6d3da7",
   "metadata": {},
   "outputs": [],
   "source": [
    "#1) Convert transition/transversion to 1/0 or -1 for neither\n",
    "\n",
    "df[\"is_transition_num\"] = df[\"is_transition\"].map(ti_flag)"
   ]
  },
  {
   "cell_type": "code",
   "execution_count": 6,
   "id": "09fc1ebb-fc37-4281-953a-e290c783f635",
   "metadata": {},
   "outputs": [
    {
     "data": {
      "text/plain": [
       "0         -1.0\n",
       "1          1.0\n",
       "2          1.0\n",
       "3          0.0\n",
       "4          1.0\n",
       "          ... \n",
       "3674808    0.0\n",
       "3674809    1.0\n",
       "3674810    1.0\n",
       "3674811    1.0\n",
       "3674812    0.0\n",
       "Name: is_transition_num, Length: 3674813, dtype: float64"
      ]
     },
     "execution_count": 6,
     "metadata": {},
     "output_type": "execute_result"
    }
   ],
   "source": [
    "#1) Check that it conversion worked and drop original column\n",
    "\n",
    "# Note: column \"is_transition\" (string) is dropped below\n",
    "\n",
    "# Look at the new data to confirm all numeric (0 or 1)\n",
    "df[\"is_transition_num\"]"
   ]
  },
  {
   "cell_type": "code",
   "execution_count": 7,
   "id": "5f2914a1-df87-4f0b-b774-4bb100a4b53d",
   "metadata": {},
   "outputs": [
    {
     "data": {
      "text/plain": [
       "array([-1.,  1.,  0.])"
      ]
     },
     "execution_count": 7,
     "metadata": {},
     "output_type": "execute_result"
    }
   ],
   "source": [
    "#1) Both pos and neg present?\n",
    "\n",
    "df[\"is_transition_num\"].unique()"
   ]
  },
  {
   "cell_type": "code",
   "execution_count": 9,
   "id": "4d39c623-193e-4742-b706-1eff7fe916b3",
   "metadata": {},
   "outputs": [],
   "source": [
    "# So far:\n",
    "# 1) transition/transversion to 0/1/-1\n",
    "\n",
    "\n",
    "# Step 2)\n",
    "# Cleanup mpc (0 - ~3.5 range, only for missense, all others have NaN.\n",
    "#    Problem: rare variants AND non-missense entries are BOTH NaN.\n",
    "#    Need to distinguish between them\n",
    "#    Note: XGBoost, LightGBM, CatBoost type models can all handle Na values. It's MLR, etc. that can't. \n",
    "#    Solution: Create sentinel columns:\n",
    "#            'mpc'         -- original column with missense tolerance value or NaN\n",
    "#            'is_missense' -- marks if missense mutation with 1\n",
    "#            'mpc_filled'  -- marks if missense mutations with -1\n",
    "#            'mpc_missing' -- marks all missing value with 1. \n",
    "#                             with 'is_missense' col informs tells if an mpc *NaN* == a rare variant "
   ]
  },
  {
   "cell_type": "code",
   "execution_count": 8,
   "id": "aa48c436-5afc-42bd-b389-4685ac5f95e5",
   "metadata": {},
   "outputs": [],
   "source": [
    "# 2a) Marks missense mutations (0 == missense, 1 == non-missense)\n",
    "\n",
    "df[\"is_missense\"] = (df[\"mutation_type\"]==\"missense\").astype(int)"
   ]
  },
  {
   "cell_type": "code",
   "execution_count": 17,
   "id": "793ad619-e110-48ad-9f46-951942c636be",
   "metadata": {},
   "outputs": [],
   "source": [
    "# 2) Check on missense constraint analysis columns:\n",
    "#     Sentinel columns are designed to identify when NaN value for mpc (missense tolerance) == NaN for an informative rare variant\n",
    "#     Distinguishes betweeen NaN when the mutaiton is NOT a missense mutation == NaN for not-informative\n",
    "\n",
    "# Example:\n",
    "\n",
    "# Row Name (int)\t\t 1685\t\t\t\t1\t\t\t\t\t\t 12\n",
    "# mpc\t\t\t\t\t 0.626245\t\t\tNaN\t\t\t\t\t\t NaN\n",
    "# is_missense\t\t\t 0\t\t\t\t\t1\t\t\t\t\t\t 0\n",
    "# mpc_is_missing\t\t 0\t\t\t\t\t1\t\t\t\t\t\t 1\n",
    "# mpc_filled\t\t\t-1\t\t\t\t\tNaN\t\t\t\t\t\t-1\n",
    "# Result: \t\t\t\tMpc Info=valuable\tNo mpc, not useful\t\tNo mpc, USEFUL"
   ]
  },
  {
   "cell_type": "code",
   "execution_count": 9,
   "id": "4bd3d46f-5132-4295-843a-9977a929dd26",
   "metadata": {},
   "outputs": [],
   "source": [
    "# 2) Converts mpc to numeric\n",
    "\n",
    "df[\"mpc\"] = pd.to_numeric(df[\"mpc\"], errors=\"coerce\")"
   ]
  },
  {
   "cell_type": "code",
   "execution_count": 10,
   "id": "6a658087-069d-4117-b989-48c801dcd9ec",
   "metadata": {},
   "outputs": [],
   "source": [
    "# 2) Sentinel for not-applicable cases; keep true NaNs for rare missing missense\n",
    "#     This marks -1 if:\n",
    "#             - \"IS missense\"\n",
    "#             - mpc value == NaN\n",
    "#             --> indicates rare variant\n",
    "\n",
    "df[\"mpc_filled\"] = np.where(df[\"is_missense\"]==1, df[\"mpc\"], -1.0)"
   ]
  },
  {
   "cell_type": "code",
   "execution_count": 11,
   "id": "44312b3e-4821-4407-9e6b-6927b8bf70ac",
   "metadata": {},
   "outputs": [],
   "source": [
    "# 2) 2Sentinel for not-applicable cases; keep true NaNs for rare missing missense\n",
    "\n",
    "df[\"mpc_is_missing\"] = df[\"mpc\"].isna().astype(int)  # only meaningful when is_missense==1"
   ]
  },
  {
   "cell_type": "code",
   "execution_count": 12,
   "id": "2faddcc5-e20f-4afb-91b8-cb5895789147",
   "metadata": {},
   "outputs": [
    {
     "data": {
      "text/plain": [
       "0          1\n",
       "1          1\n",
       "2          1\n",
       "3          1\n",
       "4          1\n",
       "          ..\n",
       "3674808    1\n",
       "3674809    1\n",
       "3674810    1\n",
       "3674811    1\n",
       "3674812    1\n",
       "Name: mpc_is_missing, Length: 3674813, dtype: int32"
      ]
     },
     "execution_count": 12,
     "metadata": {},
     "output_type": "execute_result"
    }
   ],
   "source": [
    "# 2) See the change - mpc is missing info (a true NaN value) for rare variants\n",
    "\n",
    "df[\"mpc_is_missing\"]"
   ]
  },
  {
   "cell_type": "code",
   "execution_count": 14,
   "id": "af068aa0-ba8d-46fa-b524-cd4bb726e8b0",
   "metadata": {},
   "outputs": [],
   "source": [
    "# 2) Make sentinel for mpc (non-missense)\n",
    "\n",
    "df[\"is_missense\"] = (df[\"mutation_type\"]==\"missense\").astype(int)"
   ]
  },
  {
   "cell_type": "code",
   "execution_count": 15,
   "id": "6143a27c-12d9-4ad5-8e1c-5691cce332c4",
   "metadata": {},
   "outputs": [
    {
     "data": {
      "text/plain": [
       "array([      nan, 0.568203 , 0.698117 , ..., 0.0555659, 1.84537  ,\n",
       "       0.286994 ])"
      ]
     },
     "execution_count": 15,
     "metadata": {},
     "output_type": "execute_result"
    }
   ],
   "source": [
    "# 2) Missense tolerance scores or NaN (indicating rare variant or non-missense.)\n",
    "#     NaN is good - they are disginguished by sentinel columns\n",
    "\n",
    "df.mpc.unique()"
   ]
  },
  {
   "cell_type": "code",
   "execution_count": 16,
   "id": "c37e4e48-2379-4033-95f9-bd36ef506d62",
   "metadata": {},
   "outputs": [
    {
     "data": {
      "text/plain": [
       "0    0\n",
       "1    1\n",
       "2    1\n",
       "3    1\n",
       "4    1\n",
       "Name: is_missense, dtype: int32"
      ]
     },
     "execution_count": 16,
     "metadata": {},
     "output_type": "execute_result"
    }
   ],
   "source": [
    "df.is_missense.head()"
   ]
  },
  {
   "cell_type": "code",
   "execution_count": 17,
   "id": "debbe982-1bd3-44a9-977f-8bf16fef5741",
   "metadata": {},
   "outputs": [
    {
     "data": {
      "text/plain": [
       "0    1\n",
       "1    1\n",
       "2    1\n",
       "3    1\n",
       "4    1\n",
       "Name: mpc_is_missing, dtype: int32"
      ]
     },
     "execution_count": 17,
     "metadata": {},
     "output_type": "execute_result"
    }
   ],
   "source": [
    "df.mpc_is_missing.head()"
   ]
  },
  {
   "cell_type": "code",
   "execution_count": 18,
   "id": "698a182a-925d-4e91-8ccb-77c646f7febf",
   "metadata": {},
   "outputs": [
    {
     "data": {
      "text/plain": [
       "0   -1.0\n",
       "1    NaN\n",
       "2    NaN\n",
       "3    NaN\n",
       "4    NaN\n",
       "Name: mpc_filled, dtype: float64"
      ]
     },
     "execution_count": 18,
     "metadata": {},
     "output_type": "execute_result"
    }
   ],
   "source": [
    "df.mpc_filled.head()"
   ]
  },
  {
   "cell_type": "code",
   "execution_count": 19,
   "id": "abbbd667-5491-4ccf-a394-f53c926e7898",
   "metadata": {},
   "outputs": [],
   "source": [
    "# So far:\n",
    "# 1) transition/transversion to 0/1/-1\n",
    "# 2) mpc > added three columns to distinguish rare variants from no data\n",
    "\n",
    "# Step 3) All number columns to numeric (. > NaN)\n",
    "\n",
    "num_cols = [\n",
    "    \"af\",\"nhomalt\",\"revel\",\"cadd_phred\",\"cadd_raw\",\"mpc\",\n",
    "    \"phyloP100\",\"phastCons100\",\"gerp_rs\",\n",
    "    \"loeuf\",\"pli\",\"mis_z\",\"syn_z\",\n",
    "    \"ccr_pct\",\"ref_len\",\"alt_len\",\"indel_len\",\n",
    "    \"is_indel\",\"is_snv\",\"is_transition_num\",\n",
    "    \"spliceai_tx_count\",\n",
    "    \"spliceai_ds_ag_max\",\"spliceai_ds_al_max\",\"spliceai_ds_dg_max\",\"spliceai_ds_dl_max\",\n",
    "    \"mpc_filled\",\"mpc_is_missing\",\"is_frameshift\",\"ccr_top1\"\n",
    "]\n",
    "\n",
    "# coerce to numeric\n",
    "for c in num_cols:\n",
    "    if c in df.columns:\n",
    "        df[c] = pd.to_numeric(df[c], errors=\"coerce\")"
   ]
  },
  {
   "cell_type": "code",
   "execution_count": 20,
   "id": "c353520c-9689-427f-8a24-00df76377672",
   "metadata": {},
   "outputs": [
    {
     "name": "stdout",
     "output_type": "stream",
     "text": [
      "Column af: lower 0.0, upper 1.0\n",
      "Column revel: lower 0.0, upper 1.0\n",
      "Column phastCons100: lower 0.0, upper 1.0\n",
      "Column spliceai_ds_ag_max: lower 0.0, upper 1.0\n",
      "Column spliceai_ds_al_max: lower 0.0, upper 1.0\n",
      "Column spliceai_ds_dg_max: lower 0.0, upper 1.0\n",
      "Column spliceai_ds_dl_max: lower 0.0, upper 1.0\n"
     ]
    }
   ],
   "source": [
    "# So far:\n",
    "# 1) transition/transversion to 0/1/-1\n",
    "# 2) mpc > added three columns to distinguish rare variants from no data\n",
    "# 3) Number columns to numeric\n",
    "\n",
    "# Step 4a) Clip columns (should be value of 0-1, just be sure)\n",
    "\n",
    "clip_cols = [\"af\",\"revel\",\"phastCons100\", \"spliceai_ds_ag_max\",\"spliceai_ds_al_max\",\"spliceai_ds_dg_max\",\"spliceai_ds_dl_max\"]\n",
    "for c in clip_cols:\n",
    "    if c in df.columns:\n",
    "        df[c] = df[c].clip(lower=0, upper=1)\n",
    "        print(f\"Column {c}: lower {df[c].min()}, upper {df[c].max()}\")"
   ]
  },
  {
   "cell_type": "code",
   "execution_count": 21,
   "id": "75c9bfb0-e013-4274-8eeb-77e1a666579b",
   "metadata": {},
   "outputs": [],
   "source": [
    "# 4b) Clip other columns wiht specific range requirements\n",
    "\n",
    "df[\"ccr_pct\"] = df[\"ccr_pct\"].clip(lower=0, upper=100)\n",
    "df[\"cadd_phred\"] = df[\"cadd_phred\"].clip(lower=0, upper=99)\n",
    "df[\"gerp_rs\"] = df[\"gerp_rs\"].clip(lower=-10, upper=10)"
   ]
  },
  {
   "cell_type": "code",
   "execution_count": 22,
   "id": "908a5b2e-9eb0-47e7-b94a-4e83388de4b9",
   "metadata": {},
   "outputs": [
    {
     "data": {
      "text/html": [
       "<div>\n",
       "<style scoped>\n",
       "    .dataframe tbody tr th:only-of-type {\n",
       "        vertical-align: middle;\n",
       "    }\n",
       "\n",
       "    .dataframe tbody tr th {\n",
       "        vertical-align: top;\n",
       "    }\n",
       "\n",
       "    .dataframe thead th {\n",
       "        text-align: right;\n",
       "    }\n",
       "</style>\n",
       "<table border=\"1\" class=\"dataframe\">\n",
       "  <thead>\n",
       "    <tr style=\"text-align: right;\">\n",
       "      <th></th>\n",
       "      <th>mt_missense</th>\n",
       "      <th>mt_noncoding</th>\n",
       "      <th>mt_nonsense</th>\n",
       "      <th>mt_silent</th>\n",
       "    </tr>\n",
       "  </thead>\n",
       "  <tbody>\n",
       "    <tr>\n",
       "      <th>0</th>\n",
       "      <td>0</td>\n",
       "      <td>1</td>\n",
       "      <td>0</td>\n",
       "      <td>0</td>\n",
       "    </tr>\n",
       "    <tr>\n",
       "      <th>1</th>\n",
       "      <td>1</td>\n",
       "      <td>0</td>\n",
       "      <td>0</td>\n",
       "      <td>0</td>\n",
       "    </tr>\n",
       "    <tr>\n",
       "      <th>2</th>\n",
       "      <td>1</td>\n",
       "      <td>0</td>\n",
       "      <td>0</td>\n",
       "      <td>0</td>\n",
       "    </tr>\n",
       "    <tr>\n",
       "      <th>3</th>\n",
       "      <td>1</td>\n",
       "      <td>0</td>\n",
       "      <td>0</td>\n",
       "      <td>0</td>\n",
       "    </tr>\n",
       "    <tr>\n",
       "      <th>4</th>\n",
       "      <td>1</td>\n",
       "      <td>0</td>\n",
       "      <td>0</td>\n",
       "      <td>0</td>\n",
       "    </tr>\n",
       "    <tr>\n",
       "      <th>...</th>\n",
       "      <td>...</td>\n",
       "      <td>...</td>\n",
       "      <td>...</td>\n",
       "      <td>...</td>\n",
       "    </tr>\n",
       "    <tr>\n",
       "      <th>3674808</th>\n",
       "      <td>1</td>\n",
       "      <td>0</td>\n",
       "      <td>0</td>\n",
       "      <td>0</td>\n",
       "    </tr>\n",
       "    <tr>\n",
       "      <th>3674809</th>\n",
       "      <td>0</td>\n",
       "      <td>0</td>\n",
       "      <td>1</td>\n",
       "      <td>0</td>\n",
       "    </tr>\n",
       "    <tr>\n",
       "      <th>3674810</th>\n",
       "      <td>0</td>\n",
       "      <td>0</td>\n",
       "      <td>0</td>\n",
       "      <td>1</td>\n",
       "    </tr>\n",
       "    <tr>\n",
       "      <th>3674811</th>\n",
       "      <td>0</td>\n",
       "      <td>0</td>\n",
       "      <td>0</td>\n",
       "      <td>1</td>\n",
       "    </tr>\n",
       "    <tr>\n",
       "      <th>3674812</th>\n",
       "      <td>1</td>\n",
       "      <td>0</td>\n",
       "      <td>0</td>\n",
       "      <td>0</td>\n",
       "    </tr>\n",
       "  </tbody>\n",
       "</table>\n",
       "<p>3674813 rows × 4 columns</p>\n",
       "</div>"
      ],
      "text/plain": [
       "         mt_missense  mt_noncoding  mt_nonsense  mt_silent\n",
       "0                  0             1            0          0\n",
       "1                  1             0            0          0\n",
       "2                  1             0            0          0\n",
       "3                  1             0            0          0\n",
       "4                  1             0            0          0\n",
       "...              ...           ...          ...        ...\n",
       "3674808            1             0            0          0\n",
       "3674809            0             0            1          0\n",
       "3674810            0             0            0          1\n",
       "3674811            0             0            0          1\n",
       "3674812            1             0            0          0\n",
       "\n",
       "[3674813 rows x 4 columns]"
      ]
     },
     "execution_count": 22,
     "metadata": {},
     "output_type": "execute_result"
    }
   ],
   "source": [
    "# So far:\n",
    "# 1) transition/transversion to 0/1/-1\n",
    "# 2) mpc > added three columns to distinguish rare variants from no data\n",
    "# 3) Number columns to numeric\n",
    "# 4) Clipped columns to ensure proper range\n",
    "\n",
    "# Step 5a: Mutation type to one hot\n",
    "\n",
    "mt_dum = pd.get_dummies(df[\"mutation_type\"].fillna(\"noncoding\"), prefix=\"mt\", dtype=int)\n",
    "mt_dum"
   ]
  },
  {
   "cell_type": "code",
   "execution_count": 23,
   "id": "d197f5da-dfba-4cba-aa00-2a4590ebd641",
   "metadata": {},
   "outputs": [],
   "source": [
    "# 5b Add the one-hot mutation types to the df\n",
    "\n",
    "df = pd.concat([df, mt_dum], axis=1)"
   ]
  },
  {
   "cell_type": "code",
   "execution_count": 24,
   "id": "c2c38a2e-c923-4d05-a57b-98785dab5b75",
   "metadata": {},
   "outputs": [],
   "source": [
    "# 5c drop mutation column now that it's in 1 hot form\n",
    "\n",
    "df = df.drop([\"mutation_type\"], axis=1)"
   ]
  },
  {
   "cell_type": "code",
   "execution_count": 25,
   "id": "c3f1bf62-031e-4f2c-84d8-bc1fad587c5d",
   "metadata": {},
   "outputs": [],
   "source": [
    "# So far:\n",
    "# 1) Transition/transversion to 0/1/-1\n",
    "# 2) mpc > added three columns to distinguish rare variants from no data. Kept mpc.\n",
    "# 3) Number columns to numeric\n",
    "# 4) Clipped columns to ensure proper range\n",
    "# 5) Mutation type to 1-hot, dropped original\n",
    "\n",
    "# Step 6: Drop no/low-utility columns\n",
    "df = df.drop([], axis=1)\n",
    "drop_cols = [\n",
    "        \"gene\",\"gene_id\",\n",
    "        \"spliceai_allele_first\",\"spliceai_symbol_first\",\n",
    "        \"spliceai_ds_ag_first\",\"spliceai_ds_al_first\",\"spliceai_ds_dg_first\",\"spliceai_ds_dl_first\",\n",
    "        \"spliceai_dp_ag_first\",\"spliceai_dp_al_first\",\"spliceai_dp_dg_first\",\"spliceai_dp_dl_first\",\n",
    "        \"spliceai_raw\", \"bcq_raw\", \"is_transition\"\n",
    "    ]\n",
    "df = df.drop(columns=[c for c in drop_cols if c in df.columns], errors=\"ignore\")"
   ]
  },
  {
   "cell_type": "code",
   "execution_count": 26,
   "id": "c271d7cc-a9cc-416f-b856-6d0e99e48b2e",
   "metadata": {},
   "outputs": [
    {
     "data": {
      "text/html": [
       "<div>\n",
       "<style scoped>\n",
       "    .dataframe tbody tr th:only-of-type {\n",
       "        vertical-align: middle;\n",
       "    }\n",
       "\n",
       "    .dataframe tbody tr th {\n",
       "        vertical-align: top;\n",
       "    }\n",
       "\n",
       "    .dataframe thead th {\n",
       "        text-align: right;\n",
       "    }\n",
       "</style>\n",
       "<table border=\"1\" class=\"dataframe\">\n",
       "  <thead>\n",
       "    <tr style=\"text-align: right;\">\n",
       "      <th></th>\n",
       "      <th>chrom</th>\n",
       "      <th>pos</th>\n",
       "      <th>ref</th>\n",
       "      <th>alt</th>\n",
       "      <th>af</th>\n",
       "      <th>nhomalt</th>\n",
       "      <th>revel</th>\n",
       "      <th>cadd_phred</th>\n",
       "      <th>cadd_raw</th>\n",
       "      <th>mpc</th>\n",
       "      <th>...</th>\n",
       "      <th>spliceai_ds_dl_max</th>\n",
       "      <th>ccr_top1</th>\n",
       "      <th>is_frameshift</th>\n",
       "      <th>is_missense</th>\n",
       "      <th>mpc_filled</th>\n",
       "      <th>mpc_is_missing</th>\n",
       "      <th>mt_missense</th>\n",
       "      <th>mt_noncoding</th>\n",
       "      <th>mt_nonsense</th>\n",
       "      <th>mt_silent</th>\n",
       "    </tr>\n",
       "  </thead>\n",
       "  <tbody>\n",
       "    <tr>\n",
       "      <th>0</th>\n",
       "      <td>chr1</td>\n",
       "      <td>66926</td>\n",
       "      <td>AG</td>\n",
       "      <td>A</td>\n",
       "      <td>NaN</td>\n",
       "      <td>NaN</td>\n",
       "      <td>NaN</td>\n",
       "      <td>NaN</td>\n",
       "      <td>NaN</td>\n",
       "      <td>NaN</td>\n",
       "      <td>...</td>\n",
       "      <td>NaN</td>\n",
       "      <td>NaN</td>\n",
       "      <td>0</td>\n",
       "      <td>0</td>\n",
       "      <td>-1.0</td>\n",
       "      <td>1</td>\n",
       "      <td>0</td>\n",
       "      <td>1</td>\n",
       "      <td>0</td>\n",
       "      <td>0</td>\n",
       "    </tr>\n",
       "    <tr>\n",
       "      <th>1</th>\n",
       "      <td>chr1</td>\n",
       "      <td>69134</td>\n",
       "      <td>A</td>\n",
       "      <td>G</td>\n",
       "      <td>0.000318</td>\n",
       "      <td>0.0</td>\n",
       "      <td>0.075</td>\n",
       "      <td>16.91</td>\n",
       "      <td>1.68318</td>\n",
       "      <td>NaN</td>\n",
       "      <td>...</td>\n",
       "      <td>0.0</td>\n",
       "      <td>NaN</td>\n",
       "      <td>0</td>\n",
       "      <td>1</td>\n",
       "      <td>NaN</td>\n",
       "      <td>1</td>\n",
       "      <td>1</td>\n",
       "      <td>0</td>\n",
       "      <td>0</td>\n",
       "      <td>0</td>\n",
       "    </tr>\n",
       "    <tr>\n",
       "      <th>2</th>\n",
       "      <td>chr1</td>\n",
       "      <td>69308</td>\n",
       "      <td>A</td>\n",
       "      <td>G</td>\n",
       "      <td>NaN</td>\n",
       "      <td>NaN</td>\n",
       "      <td>0.147</td>\n",
       "      <td>18.68</td>\n",
       "      <td>1.92409</td>\n",
       "      <td>NaN</td>\n",
       "      <td>...</td>\n",
       "      <td>0.0</td>\n",
       "      <td>NaN</td>\n",
       "      <td>0</td>\n",
       "      <td>1</td>\n",
       "      <td>NaN</td>\n",
       "      <td>1</td>\n",
       "      <td>1</td>\n",
       "      <td>0</td>\n",
       "      <td>0</td>\n",
       "      <td>0</td>\n",
       "    </tr>\n",
       "    <tr>\n",
       "      <th>3</th>\n",
       "      <td>chr1</td>\n",
       "      <td>69314</td>\n",
       "      <td>T</td>\n",
       "      <td>G</td>\n",
       "      <td>0.000002</td>\n",
       "      <td>0.0</td>\n",
       "      <td>0.208</td>\n",
       "      <td>21.80</td>\n",
       "      <td>2.33789</td>\n",
       "      <td>NaN</td>\n",
       "      <td>...</td>\n",
       "      <td>0.0</td>\n",
       "      <td>NaN</td>\n",
       "      <td>0</td>\n",
       "      <td>1</td>\n",
       "      <td>NaN</td>\n",
       "      <td>1</td>\n",
       "      <td>1</td>\n",
       "      <td>0</td>\n",
       "      <td>0</td>\n",
       "      <td>0</td>\n",
       "    </tr>\n",
       "    <tr>\n",
       "      <th>4</th>\n",
       "      <td>chr1</td>\n",
       "      <td>69404</td>\n",
       "      <td>T</td>\n",
       "      <td>C</td>\n",
       "      <td>0.000043</td>\n",
       "      <td>0.0</td>\n",
       "      <td>0.050</td>\n",
       "      <td>18.69</td>\n",
       "      <td>1.92614</td>\n",
       "      <td>NaN</td>\n",
       "      <td>...</td>\n",
       "      <td>0.0</td>\n",
       "      <td>NaN</td>\n",
       "      <td>0</td>\n",
       "      <td>1</td>\n",
       "      <td>NaN</td>\n",
       "      <td>1</td>\n",
       "      <td>1</td>\n",
       "      <td>0</td>\n",
       "      <td>0</td>\n",
       "      <td>0</td>\n",
       "    </tr>\n",
       "  </tbody>\n",
       "</table>\n",
       "<p>5 rows × 39 columns</p>\n",
       "</div>"
      ],
      "text/plain": [
       "  chrom    pos ref alt        af  nhomalt  revel  cadd_phred  cadd_raw  mpc  \\\n",
       "0  chr1  66926  AG   A       NaN      NaN    NaN         NaN       NaN  NaN   \n",
       "1  chr1  69134   A   G  0.000318      0.0  0.075       16.91   1.68318  NaN   \n",
       "2  chr1  69308   A   G       NaN      NaN  0.147       18.68   1.92409  NaN   \n",
       "3  chr1  69314   T   G  0.000002      0.0  0.208       21.80   2.33789  NaN   \n",
       "4  chr1  69404   T   C  0.000043      0.0  0.050       18.69   1.92614  NaN   \n",
       "\n",
       "   ...  spliceai_ds_dl_max  ccr_top1  is_frameshift  is_missense  mpc_filled  \\\n",
       "0  ...                 NaN       NaN              0            0        -1.0   \n",
       "1  ...                 0.0       NaN              0            1         NaN   \n",
       "2  ...                 0.0       NaN              0            1         NaN   \n",
       "3  ...                 0.0       NaN              0            1         NaN   \n",
       "4  ...                 0.0       NaN              0            1         NaN   \n",
       "\n",
       "   mpc_is_missing  mt_missense mt_noncoding  mt_nonsense  mt_silent  \n",
       "0               1            0            1            0          0  \n",
       "1               1            1            0            0          0  \n",
       "2               1            1            0            0          0  \n",
       "3               1            1            0            0          0  \n",
       "4               1            1            0            0          0  \n",
       "\n",
       "[5 rows x 39 columns]"
      ]
     },
     "execution_count": 26,
     "metadata": {},
     "output_type": "execute_result"
    }
   ],
   "source": [
    "df.head()"
   ]
  },
  {
   "cell_type": "code",
   "execution_count": 27,
   "id": "fbdf09b7-d90e-478a-87f9-5cac0d08a287",
   "metadata": {},
   "outputs": [
    {
     "name": "stdout",
     "output_type": "stream",
     "text": [
      "Columns remaining: 39. \n",
      "\n",
      " Names = Index(['chrom', 'pos', 'ref', 'alt', 'af', 'nhomalt', 'revel', 'cadd_phred',\n",
      "       'cadd_raw', 'mpc', 'phyloP100', 'phastCons100', 'gerp_rs', 'loeuf',\n",
      "       'pli', 'mis_z', 'syn_z', 'clnsig', 'ccr_pct', 'ref_len', 'alt_len',\n",
      "       'is_indel', 'is_snv', 'indel_len', 'is_transition_num',\n",
      "       'spliceai_tx_count', 'spliceai_ds_ag_max', 'spliceai_ds_al_max',\n",
      "       'spliceai_ds_dg_max', 'spliceai_ds_dl_max', 'ccr_top1', 'is_frameshift',\n",
      "       'is_missense', 'mpc_filled', 'mpc_is_missing', 'mt_missense',\n",
      "       'mt_noncoding', 'mt_nonsense', 'mt_silent'],\n",
      "      dtype='object'), \n",
      "\n",
      " Number of Rows: 3674813\n"
     ]
    }
   ],
   "source": [
    "# Check on remaining columns\n",
    "\n",
    "print(f\"Columns remaining: {len(df.columns)}. \\n\\n Names = {df.columns}, \\n\\n Number of Rows: {len(df)}\")"
   ]
  },
  {
   "cell_type": "code",
   "execution_count": 28,
   "id": "e500dc79-4b1c-4592-a29b-d4fd960cccff",
   "metadata": {},
   "outputs": [],
   "source": [
    "# So far:\n",
    "# 1) Transition/transversion to 0/1/-1\n",
    "# 2) mpc > added three columns to distinguish rare variants from no data. Kept mpc.\n",
    "# 3) Number columns to numeric\n",
    "# 4) Clipped columns to ensure proper range\n",
    "# 5) Mutation type to 1-hot, dropped original\n",
    "# 6) Drop no/low-utility columns\n",
    "\n",
    "# Step 7: Deduplicate based on Chrom, pos, ref, alt; keep the first\n",
    "df = df.sort_values([\"chrom\",\"pos\"]).drop_duplicates(subset=[\"chrom\",\"pos\",\"ref\",\"alt\"], keep=\"first\")"
   ]
  },
  {
   "cell_type": "code",
   "execution_count": 29,
   "id": "2b80bbb1-89ed-4262-97da-cf35a192026c",
   "metadata": {},
   "outputs": [],
   "source": [
    "# So far:\n",
    "# 1) Transition/transversion to 0/1/-1\n",
    "# 2) mpc > added three columns to distinguish rare variants from no data. Kept mpc.\n",
    "# 3) Number columns to numeric\n",
    "# 4) Clipped columns to ensure proper range\n",
    "# 5) Mutation type to 1-hot, dropped original\n",
    "# 6) Drop no/low-utility columns\n",
    "# 7) Deduplicate based on Chrom, pos, ref, alt\n",
    "\n",
    "# Step 8) Save dataset"
   ]
  },
  {
   "cell_type": "code",
   "execution_count": 30,
   "id": "3c076189-8e74-4d7a-988c-2a372246c535",
   "metadata": {},
   "outputs": [],
   "source": [
    "# 8) Save\n",
    "\n",
    "import json\n",
    "import pandas as pd\n",
    "import numpy as np\n",
    "\n",
    "# Compact dtypes\n",
    "for c in df.select_dtypes(include=[\"float64\"]).columns:\n",
    "    df[c] = df[c].astype(\"float32\")\n",
    "for c in df.select_dtypes(include=[\"int64\",\"int32\"]).columns:\n",
    "    df[c] = pd.to_numeric(df[c], downcast=\"integer\")"
   ]
  },
  {
   "cell_type": "code",
   "execution_count": 31,
   "id": "7f0335ba-1f8a-4702-a123-25dd41f47c46",
   "metadata": {},
   "outputs": [],
   "source": [
    "# So far:\n",
    "# 1) Transition/transversion to 0/1/-1\n",
    "# 2) mpc > added three columns to distinguish rare variants from no data. Kept mpc.\n",
    "# 3) Number columns to numeric\n",
    "# 4) Clipped columns to ensure proper range\n",
    "# 5) Mutation type to 1-hot, dropped original\n",
    "# 6) Drop no/low-utility columns\n",
    "# 7) Deduplicate based on Chrom, pos, ref, alt\n",
    "# 8) Save dataset\n",
    "\n",
    "# Step 9a) Map target column, clinical significance (\"clnsig\") to 0/1 - column \"label\"\n",
    "\n",
    "def map_label(s):\n",
    "    if not isinstance(s, str): return np.nan\n",
    "    t = s.lower().replace(\" \", \"_\")\n",
    "    if \"pathogenic\" in t and \"benign\" not in t: return 1\n",
    "    if \"benign\" in t and \"pathogenic\" not in t: return 0\n",
    "    return np.nan\n",
    "\n",
    "df[\"label\"] = df[\"clnsig\"].apply(map_label)"
   ]
  },
  {
   "cell_type": "code",
   "execution_count": 32,
   "id": "1bad60e1-e628-423d-903b-86d41a321c81",
   "metadata": {},
   "outputs": [],
   "source": [
    "# 9b) Save ambiguous data rows. Use later to make predictions.\n",
    "\n",
    "amb = df[\"label\"].isna()"
   ]
  },
  {
   "cell_type": "code",
   "execution_count": 33,
   "id": "1c4b5c55-5119-46c4-9fb2-bec1550d41df",
   "metadata": {},
   "outputs": [
    {
     "data": {
      "text/html": [
       "<div>\n",
       "<style scoped>\n",
       "    .dataframe tbody tr th:only-of-type {\n",
       "        vertical-align: middle;\n",
       "    }\n",
       "\n",
       "    .dataframe tbody tr th {\n",
       "        vertical-align: top;\n",
       "    }\n",
       "\n",
       "    .dataframe thead th {\n",
       "        text-align: right;\n",
       "    }\n",
       "</style>\n",
       "<table border=\"1\" class=\"dataframe\">\n",
       "  <thead>\n",
       "    <tr style=\"text-align: right;\">\n",
       "      <th></th>\n",
       "      <th>clnsig</th>\n",
       "      <th>label</th>\n",
       "    </tr>\n",
       "  </thead>\n",
       "  <tbody>\n",
       "    <tr>\n",
       "      <th>0</th>\n",
       "      <td>Uncertain_significance</td>\n",
       "      <td>NaN</td>\n",
       "    </tr>\n",
       "    <tr>\n",
       "      <th>2</th>\n",
       "      <td>Uncertain_significance</td>\n",
       "      <td>NaN</td>\n",
       "    </tr>\n",
       "    <tr>\n",
       "      <th>3</th>\n",
       "      <td>Uncertain_significance</td>\n",
       "      <td>NaN</td>\n",
       "    </tr>\n",
       "    <tr>\n",
       "      <th>4</th>\n",
       "      <td>Uncertain_significance</td>\n",
       "      <td>NaN</td>\n",
       "    </tr>\n",
       "    <tr>\n",
       "      <th>5</th>\n",
       "      <td>Uncertain_significance</td>\n",
       "      <td>NaN</td>\n",
       "    </tr>\n",
       "    <tr>\n",
       "      <th>...</th>\n",
       "      <td>...</td>\n",
       "      <td>...</td>\n",
       "    </tr>\n",
       "    <tr>\n",
       "      <th>3674797</th>\n",
       "      <td>Uncertain_significance</td>\n",
       "      <td>NaN</td>\n",
       "    </tr>\n",
       "    <tr>\n",
       "      <th>3674805</th>\n",
       "      <td>Uncertain_significance</td>\n",
       "      <td>NaN</td>\n",
       "    </tr>\n",
       "    <tr>\n",
       "      <th>3674808</th>\n",
       "      <td>Uncertain_significance</td>\n",
       "      <td>NaN</td>\n",
       "    </tr>\n",
       "    <tr>\n",
       "      <th>3674809</th>\n",
       "      <td>Uncertain_significance</td>\n",
       "      <td>NaN</td>\n",
       "    </tr>\n",
       "    <tr>\n",
       "      <th>3674812</th>\n",
       "      <td>Uncertain_significance</td>\n",
       "      <td>NaN</td>\n",
       "    </tr>\n",
       "  </tbody>\n",
       "</table>\n",
       "<p>1950044 rows × 2 columns</p>\n",
       "</div>"
      ],
      "text/plain": [
       "                         clnsig  label\n",
       "0        Uncertain_significance    NaN\n",
       "2        Uncertain_significance    NaN\n",
       "3        Uncertain_significance    NaN\n",
       "4        Uncertain_significance    NaN\n",
       "5        Uncertain_significance    NaN\n",
       "...                         ...    ...\n",
       "3674797  Uncertain_significance    NaN\n",
       "3674805  Uncertain_significance    NaN\n",
       "3674808  Uncertain_significance    NaN\n",
       "3674809  Uncertain_significance    NaN\n",
       "3674812  Uncertain_significance    NaN\n",
       "\n",
       "[1950044 rows x 2 columns]"
      ]
     },
     "execution_count": 33,
     "metadata": {},
     "output_type": "execute_result"
    }
   ],
   "source": [
    "# Check on the ambiguous calls\n",
    "\n",
    "df.loc[amb,[\"clnsig\", \"label\"]]"
   ]
  },
  {
   "cell_type": "code",
   "execution_count": 34,
   "id": "e72c4cca-b545-485d-bf1a-6772862d3710",
   "metadata": {},
   "outputs": [],
   "source": [
    "# 9b) Make ambiguous-only dataset, then save\n",
    "amb_db = df.loc[amb]\n",
    "\n",
    "# 1) Readable dataset (ambiguous)\n",
    "amb_db.to_csv(\"ambiguous_data.tsv.gz\", sep=\"\\t\", index=False,\n",
    "          na_rep=\".\", float_format=\"%.6g\", compression=\"gzip\")\n",
    "\n",
    "# 1) Machine input (ambiguous)\n",
    "amb_db.to_parquet(\"ambiguous_data.parquet\", engine=\"pyarrow\",\n",
    "              compression=\"snappy\", index=False)"
   ]
  },
  {
   "cell_type": "code",
   "execution_count": 35,
   "id": "4aa4f859-394d-480d-b054-b7c06cd11901",
   "metadata": {},
   "outputs": [
    {
     "name": "stdout",
     "output_type": "stream",
     "text": [
      "Number pathogenic:  460877\n",
      "Number benign:  1263888\n",
      "Number total:  1724765\n"
     ]
    }
   ],
   "source": [
    "# 9c) Remove unclear outcomes (anything that's not a clinical significance of benigh or pathogenic)\n",
    "#     These are 0/1 in the \"label\" column\n",
    "#     Reduce full dataset down to good rows\n",
    "\n",
    "# Save data points with clear, unambiguous benign/pathogenic calls (0 or 1)\n",
    "keep = df[\"label\"].notna()\n",
    "df = df.loc[keep]\n",
    "\n",
    "# Report the number of benign or pathogenic datapoints\n",
    "numpath = sum(df[\"label\"] == 1)\n",
    "numben = sum(df[\"label\"] == 0)\n",
    "print(\"Number pathogenic: \", numpath)\n",
    "print(\"Number benign: \", numben)\n",
    "print(\"Number total: \", len(df[\"label\"]))"
   ]
  },
  {
   "cell_type": "code",
   "execution_count": 36,
   "id": "42897ced-2496-4f13-a79c-301cd010dac5",
   "metadata": {},
   "outputs": [],
   "source": [
    "# 9d) Save the training data (note: clnsig will have to be removed prior to training)\n",
    "\n",
    "# 1) Readable dataset\n",
    "df.to_csv(\"training.pycleaned.tsv.gz\", sep=\"\\t\", index=False,\n",
    "          na_rep=\".\", float_format=\"%.6g\", compression=\"gzip\")\n",
    "\n",
    "# 1) Canonical artifact for training\n",
    "df.to_parquet(\"training.pycleaned.parquet\", engine=\"pyarrow\",\n",
    "              compression=\"snappy\", index=False)"
   ]
  }
 ],
 "metadata": {
  "kernelspec": {
   "display_name": "Python 3 (ipykernel)",
   "language": "python",
   "name": "python3"
  },
  "language_info": {
   "codemirror_mode": {
    "name": "ipython",
    "version": 3
   },
   "file_extension": ".py",
   "mimetype": "text/x-python",
   "name": "python",
   "nbconvert_exporter": "python",
   "pygments_lexer": "ipython3",
   "version": "3.12.10"
  }
 },
 "nbformat": 4,
 "nbformat_minor": 5
}
