{
 "cells": [
  {
   "cell_type": "code",
   "execution_count": 1,
   "id": "616cfc89-9e7e-464b-8550-1b1a8de386b9",
   "metadata": {},
   "outputs": [
    {
     "name": "stderr",
     "output_type": "stream",
     "text": [
      "C:\\Users\\cbreu\\AppData\\Local\\Packages\\PythonSoftwareFoundation.Python.3.12_qbz5n2kfra8p0\\LocalCache\\local-packages\\Python312\\site-packages\\sklearn\\experimental\\enable_hist_gradient_boosting.py:16: UserWarning: Since version 1.0, it is not needed to import enable_hist_gradient_boosting anymore. HistGradientBoostingClassifier and HistGradientBoostingRegressor are now stable and can be normally imported from sklearn.ensemble.\n",
      "  warnings.warn(\n"
     ]
    }
   ],
   "source": [
    "# from sklearn.model_selection import train_test_split, StratifiedKFold, cross_validate\n",
    "from sklearn.experimental import enable_hist_gradient_boosting  # noqa: F401\n",
    "from sklearn.ensemble import HistGradientBoostingClassifier\n",
    "from sklearn.metrics import roc_auc_score, average_precision_score, classification_report\n",
    "from sklearn.impute import SimpleImputer\n",
    "from sklearn.pipeline import Pipeline\n",
    "from sklearn.compose import ColumnTransformer\n",
    "from sklearn.model_selection import train_test_split, StratifiedKFold, cross_validate\n",
    "from joblib import dump\n",
    "import pandas as pd\n",
    "import json, os, re, sys"
   ]
  },
  {
   "cell_type": "code",
   "execution_count": 11,
   "id": "920a4cd9-aadb-4f7a-9828-701bc4f2b137",
   "metadata": {},
   "outputs": [],
   "source": [
    "# Read in the data\n",
    "\n",
    "df = pd.read_parquet('C:/test/data/9_clean_in_py/training.pycleaned.parquet')"
   ]
  },
  {
   "cell_type": "code",
   "execution_count": 12,
   "id": "bcc7542c-33a1-4bf4-85e3-a5ee1b122425",
   "metadata": {},
   "outputs": [],
   "source": [
    "# Copy to training dataset\n",
    "\n",
    "X = df.copy()"
   ]
  },
  {
   "cell_type": "code",
   "execution_count": 14,
   "id": "337c0b53-31d0-4c42-9c9c-783e543592de",
   "metadata": {},
   "outputs": [],
   "source": [
    "# Predictor column (0/1 for benign/pathogenic)\n",
    "\n",
    "y = X[\"label\"]"
   ]
  },
  {
   "cell_type": "code",
   "execution_count": 15,
   "id": "3d41e0c7-88d7-4cf4-bc26-bbf75c53b5a1",
   "metadata": {},
   "outputs": [],
   "source": [
    "# Drop unneeded columns (target column is 'label' with \"benign\"/0, \"pathogenic\"/1)\n",
    "\n",
    "X = X.drop([\"chrom\",\"pos\",\"ref\",\"alt\", \"label\"], axis =1 )"
   ]
  },
  {
   "cell_type": "code",
   "execution_count": 18,
   "id": "9e887f63-8c2f-4890-88b1-178b75052e9c",
   "metadata": {},
   "outputs": [],
   "source": [
    "# All remaining columns should be numeric. \n",
    "# Double check to ensure numeric dtype\n",
    "\n",
    "for c in X.columns:\n",
    "    X[c] = pd.to_numeric(X[c], errors=\"coerce\")\n",
    "\n",
    "y = pd.to_numeric(y, errors=\"coerce\")"
   ]
  },
  {
   "cell_type": "code",
   "execution_count": 19,
   "id": "553b1b10-58db-4067-bee3-624144cbe71e",
   "metadata": {},
   "outputs": [
    {
     "name": "stdout",
     "output_type": "stream",
     "text": [
      "Number of predictors: \n",
      " Benign: 1263888 \n",
      " Pathogenic: 460877 \n",
      " Percent Pathogenic: 73\n"
     ]
    }
   ],
   "source": [
    "# Print a rough summary of target column\n",
    "\n",
    "benign = sum(y==0)\n",
    "pathogenic = sum(y==1)\n",
    "total = benign + pathogenic\n",
    "pct = int(100*(benign/total))\n",
    "\n",
    "print(f'Number of predictors: \\n Benign: {benign} \\n Pathogenic: {pathogenic} \\n Percent Pathogenic: {pct}')"
   ]
  },
  {
   "cell_type": "code",
   "execution_count": 20,
   "id": "9ae47a29-7b0b-43aa-97c9-56c89579759e",
   "metadata": {},
   "outputs": [],
   "source": [
    "# Set random number seed\n",
    "\n",
    "randomSeed = 99"
   ]
  },
  {
   "cell_type": "code",
   "execution_count": 22,
   "id": "2aaa682b-3576-4ae4-a3bc-1276aa1d9f6c",
   "metadata": {},
   "outputs": [],
   "source": [
    "# Train/test split\n",
    "\n",
    "X_train, X_test, y_train, y_test = train_test_split(X, y, test_size=0.2, random_state=randomSeed, stratify=y)"
   ]
  },
  {
   "cell_type": "code",
   "execution_count": 23,
   "id": "a100e8b0-57d3-4a7b-89b4-a766738ea3f1",
   "metadata": {},
   "outputs": [],
   "source": [
    "# Pipeline settings\n",
    "\n",
    "# Pipeline: median imputer -> HistGradientBoosting\n",
    "\n",
    "pipe = Pipeline(steps=[\n",
    "    (\"impute\", SimpleImputer(strategy=\"median\")),\n",
    "    (\"clf\", HistGradientBoostingClassifier(\n",
    "        learning_rate=0.05,\n",
    "        max_depth=None,      # allow tree growth with L2 regularization\n",
    "        max_leaf_nodes=31,\n",
    "        l2_regularization=0.0,\n",
    "        random_state=randomSeed\n",
    "    ))\n",
    "])"
   ]
  },
  {
   "cell_type": "code",
   "execution_count": null,
   "id": "ff6685e1-085c-4749-9fca-28102da898a0",
   "metadata": {},
   "outputs": [],
   "source": [
    "# Test the effectiveness of the training data + model + params using 5-fold cross validation\n",
    "    # This creates a model 5x on 5 different train/test splits\n",
    "    # This does not produce an output model. It only establishes the likelihood the settings will produce a good model.\n",
    "\n",
    "cv = StratifiedKFold(n_splits=5, shuffle=True, random_state=randomSeed)\n",
    "\n",
    "# Set scoring method\n",
    "    # ROC AUC - area under the curve - higher = better\n",
    "    # Average precision - good for cases where the positive value is rare (not the case here, but ok)\n",
    "scoring = {\"roc_auc\":\"roc_auc\", \"pr_auc\":\"average_precision\"}\n",
    "\n",
    "# Test by 5x cross validation\n",
    "cv_res = cross_validate(pipe, X_train, y_train, cv=cv, scoring=scoring, n_jobs=-1, return_train_score=False)"
   ]
  },
  {
   "cell_type": "code",
   "execution_count": 18,
   "id": "5e5d2c9e-afe0-4fdc-990f-3926337aaecc",
   "metadata": {},
   "outputs": [
    {
     "name": "stdout",
     "output_type": "stream",
     "text": [
      "[cv] ROC-AUC mean=0.960 ± 0.000\n",
      "[cv] PR-AUC  mean=0.933 ± 0.000\n"
     ]
    }
   ],
   "source": [
    "# Report CV test results\n",
    "\n",
    "print(f\"[cv] ROC-AUC mean={cv_res['test_roc_auc'].mean():.3f} ± {cv_res['test_roc_auc'].std():.3f}\")\n",
    "print(f\"[cv] PR-AUC  mean={cv_res['test_pr_auc'].mean():.3f} ± {cv_res['test_pr_auc'].std():.3f}\")"
   ]
  },
  {
   "cell_type": "code",
   "execution_count": 19,
   "id": "2c641c20-9573-4eca-8479-5289c944a4c5",
   "metadata": {},
   "outputs": [],
   "source": [
    "# Fit on full train; evaluate on held-out test\n",
    "\n",
    "pipe.fit(X_train, y_train)\n",
    "proba = pipe.predict_proba(X_test)[:,1]\n",
    "preds = (proba >= 0.5).astype(int)"
   ]
  },
  {
   "cell_type": "code",
   "execution_count": 20,
   "id": "5f8eba47-dd4e-4090-9858-7addf3d0949b",
   "metadata": {},
   "outputs": [
    {
     "data": {
      "text/plain": [
       "array([0.02964491, 0.02347764, 0.03919975, ..., 0.16676153, 0.02385342,\n",
       "       0.04745789])"
      ]
     },
     "execution_count": 20,
     "metadata": {},
     "output_type": "execute_result"
    }
   ],
   "source": [
    "# Check out Proba - probability that each predictor is the positive class (i.e. a \"1\" == \"pathogenic\")\n",
    "\n",
    "proba"
   ]
  },
  {
   "cell_type": "code",
   "execution_count": 21,
   "id": "f951caf9-4dd6-4432-b126-ca96efdbbb06",
   "metadata": {},
   "outputs": [
    {
     "name": "stdout",
     "output_type": "stream",
     "text": [
      "[test] ROC-AUC=0.960  PR-AUC=0.933\n",
      "[test] classification report:\n",
      "              precision    recall  f1-score   support\n",
      "\n",
      "           0      0.931     0.974     0.952    252778\n",
      "           1      0.918     0.802     0.856     92175\n",
      "\n",
      "    accuracy                          0.928    344953\n",
      "   macro avg      0.924     0.888     0.904    344953\n",
      "weighted avg      0.927     0.928     0.926    344953\n",
      "\n"
     ]
    }
   ],
   "source": [
    "# Assess model\n",
    "\n",
    "test_roc = roc_auc_score(y_test, proba)\n",
    "test_pr  = average_precision_score(y_test, proba)\n",
    "\n",
    "print(f\"[test] ROC-AUC={test_roc:.3f}  PR-AUC={test_pr:.3f}\")\n",
    "print(\"[test] classification report:\")\n",
    "print(classification_report(y_test, preds, digits=3))"
   ]
  },
  {
   "cell_type": "code",
   "execution_count": 36,
   "id": "93d7cbc8-aed9-4662-9979-55bd66af7b21",
   "metadata": {},
   "outputs": [
    {
     "data": {
      "text/plain": [
       "['model1.joblib']"
      ]
     },
     "execution_count": 36,
     "metadata": {},
     "output_type": "execute_result"
    }
   ],
   "source": [
    "# Save the model\n",
    "pipelineName = \"model1.joblib\"\n",
    "dump(pipe, pipelineName)"
   ]
  },
  {
   "cell_type": "code",
   "execution_count": 44,
   "id": "da6ff2e5-fcec-44e4-b819-947ad7697244",
   "metadata": {},
   "outputs": [],
   "source": [
    "# Record model features\n",
    "\n",
    "with open(\"modelFeatures.txt\", \"w\") as out:\n",
    "    out.write(\"Features:\\n\")\n",
    "    for f in X.columns:\n",
    "        out.write(f + \"\\n\")"
   ]
  },
  {
   "cell_type": "code",
   "execution_count": 48,
   "id": "0a550ccb-fdf1-4fd8-9736-c04629e5be16",
   "metadata": {},
   "outputs": [
    {
     "name": "stdout",
     "output_type": "stream",
     "text": [
      "[done] saved model → variant_model.joblib\n",
      "[done] saved features → features.json\n",
      "[done] saved metrics → metrics.json\n"
     ]
    }
   ],
   "source": [
    "# Save model scores\n",
    "\n",
    "with open(\"modelScores.json\", \"w\") as f:\n",
    "    json.dump({\n",
    "        \"cv_roc_auc_mean\": float(cv_res['test_roc_auc'].mean()),\n",
    "        \"cv_pr_auc_mean\": float(cv_res['test_pr_auc'].mean()),\n",
    "        \"test_roc_auc\": float(test_roc),\n",
    "        \"test_pr_auc\": float(test_pr)\n",
    "    }, f, indent=2)\n",
    "\n",
    "print(f\"[done] saved model → {'variant_model.joblib'}\")\n",
    "print(f\"[done] saved features → {'features.json'}\")\n",
    "print(f\"[done] saved metrics → {'metrics.json'}\")"
   ]
  }
 ],
 "metadata": {
  "kernelspec": {
   "display_name": "Python 3 (ipykernel)",
   "language": "python",
   "name": "python3"
  },
  "language_info": {
   "codemirror_mode": {
    "name": "ipython",
    "version": 3
   },
   "file_extension": ".py",
   "mimetype": "text/x-python",
   "name": "python",
   "nbconvert_exporter": "python",
   "pygments_lexer": "ipython3",
   "version": "3.12.10"
  }
 },
 "nbformat": 4,
 "nbformat_minor": 5
}
