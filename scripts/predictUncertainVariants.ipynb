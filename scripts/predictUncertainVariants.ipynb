{
 "cells": [
  {
   "cell_type": "code",
   "execution_count": 1,
   "id": "ec70b698-2a7b-42dd-98a4-74c85a62617b",
   "metadata": {},
   "outputs": [
    {
     "name": "stderr",
     "output_type": "stream",
     "text": [
      "C:\\Users\\cbreu\\AppData\\Local\\Packages\\PythonSoftwareFoundation.Python.3.12_qbz5n2kfra8p0\\LocalCache\\local-packages\\Python312\\site-packages\\sklearn\\experimental\\enable_hist_gradient_boosting.py:16: UserWarning: Since version 1.0, it is not needed to import enable_hist_gradient_boosting anymore. HistGradientBoostingClassifier and HistGradientBoostingRegressor are now stable and can be normally imported from sklearn.ensemble.\n",
      "  warnings.warn(\n"
     ]
    }
   ],
   "source": [
    "# from sklearn.model_selection import train_test_split, StratifiedKFold, cross_validate\n",
    "from sklearn.experimental import enable_hist_gradient_boosting  # noqa: F401\n",
    "from sklearn.ensemble import HistGradientBoostingClassifier\n",
    "from sklearn.metrics import roc_auc_score, average_precision_score, classification_report\n",
    "from sklearn.impute import SimpleImputer\n",
    "from sklearn.pipeline import Pipeline\n",
    "from sklearn.compose import ColumnTransformer\n",
    "from sklearn.model_selection import train_test_split, StratifiedKFold, cross_validate\n",
    "from joblib import dump\n",
    "import pandas as pd\n",
    "import json, os, re, sys\n",
    "from joblib import load\n",
    "import pandas as pd\n",
    "import numpy as np"
   ]
  },
  {
   "cell_type": "code",
   "execution_count": null,
   "id": "da4b4188-19f1-4645-aefa-9975adb7bbaa",
   "metadata": {},
   "outputs": [],
   "source": [
    "# Load in the model\n",
    "\n",
    "modelPath = \"./model1.joblib\"\n",
    "pipe = load(modelPath)  # this is the full sklearn Pipeline you fit"
   ]
  },
  {
   "cell_type": "code",
   "execution_count": null,
   "id": "5dcb3835-9a28-4b6b-953f-15fd2854490c",
   "metadata": {},
   "outputs": [],
   "source": [
    "# Open additional data\n",
    "\n",
    "# Cleaned data\n",
    "df = pd.read_parquet(\"./ambiguous_data.parquet\") "
   ]
  },
  {
   "cell_type": "code",
   "execution_count": 4,
   "id": "75c57c22-101a-4d02-8118-c53c438978d2",
   "metadata": {},
   "outputs": [],
   "source": [
    "# Split off predictors\n",
    "\n",
    "X = df.copy()\n",
    "X = df.drop([\"chrom\", \"pos\", \"ref\", \"alt\", \"label\", \"clnsig\"], axis=1)"
   ]
  },
  {
   "cell_type": "code",
   "execution_count": 5,
   "id": "885e1199-5bba-46dc-a2de-1365f83e4c8f",
   "metadata": {},
   "outputs": [],
   "source": [
    "# Split off target data\n",
    "\n",
    "y = df.label"
   ]
  },
  {
   "cell_type": "code",
   "execution_count": 6,
   "id": "95556d77-691b-49f0-9959-2252b7b66340",
   "metadata": {},
   "outputs": [],
   "source": [
    "# Predict\n",
    "\n",
    "proba = pipe.predict_proba(X)[:, 1]   # P(y=1 | features)\n",
    "pred  = (proba >= 0.5).astype(int)    # or pick a tuned threshold"
   ]
  },
  {
   "cell_type": "code",
   "execution_count": 7,
   "id": "7c4a2ad1-6eb0-4dac-91fd-53b8610944e7",
   "metadata": {},
   "outputs": [],
   "source": [
    "# Minimal and maximial output dataset\n",
    "\n",
    "out = df[[\"chrom\",\"pos\",\"ref\",\"alt\",\"clnsig\"]]\n",
    "outmax = df.copy()"
   ]
  },
  {
   "cell_type": "code",
   "execution_count": null,
   "id": "aa82f8e3-412d-4b6d-87e6-5f868f19d2ef",
   "metadata": {},
   "outputs": [
    {
     "name": "stderr",
     "output_type": "stream",
     "text": [
      "C:\\Users\\cbreu\\AppData\\Local\\Temp\\ipykernel_173584\\675079261.py:2: SettingWithCopyWarning: \n",
      "A value is trying to be set on a copy of a slice from a DataFrame.\n",
      "Try using .loc[row_indexer,col_indexer] = value instead\n",
      "\n",
      "See the caveats in the documentation: https://pandas.pydata.org/pandas-docs/stable/user_guide/indexing.html#returning-a-view-versus-a-copy\n",
      "  out.loc[out.index, \"proba\"] = proba\n",
      "C:\\Users\\cbreu\\AppData\\Local\\Temp\\ipykernel_173584\\675079261.py:3: SettingWithCopyWarning: \n",
      "A value is trying to be set on a copy of a slice from a DataFrame.\n",
      "Try using .loc[row_indexer,col_indexer] = value instead\n",
      "\n",
      "See the caveats in the documentation: https://pandas.pydata.org/pandas-docs/stable/user_guide/indexing.html#returning-a-view-versus-a-copy\n",
      "  out.loc[out.index, \"pred\"] = pred\n"
     ]
    }
   ],
   "source": [
    "# Add results to output dataframe\n",
    "\n",
    "out.loc[out.index, \"proba\"] = proba\n",
    "out.loc[out.index, \"pred\"] = pred\n",
    "\n",
    "outmax.loc[out.index, \"proba\"] = proba\n",
    "outmax.loc[out.index, \"pred\"] = pred"
   ]
  },
  {
   "cell_type": "code",
   "execution_count": null,
   "id": "717801fa-2a75-480c-9bb1-4c804c437d3c",
   "metadata": {},
   "outputs": [],
   "source": [
    "# Convert 0/1 back to string - \"benign\"/\"pathogenic\"\n",
    "\n",
    "def toPred(s):\n",
    "    '''Converts 0/1 to likely_benign/likely_pathogenic'''\n",
    "    if s == 0:\n",
    "        return \"predict_benign\"\n",
    "    elif s == 1:\n",
    "        return \"predict_pathogenic\"\n",
    "    else:\n",
    "        return \"error_not_0or1\""
   ]
  },
  {
   "cell_type": "code",
   "execution_count": 10,
   "id": "2a079fdb-d63f-4150-a823-9b39071d4c98",
   "metadata": {},
   "outputs": [
    {
     "name": "stderr",
     "output_type": "stream",
     "text": [
      "C:\\Users\\cbreu\\AppData\\Local\\Temp\\ipykernel_173584\\2040360492.py:3: SettingWithCopyWarning: \n",
      "A value is trying to be set on a copy of a slice from a DataFrame.\n",
      "Try using .loc[row_indexer,col_indexer] = value instead\n",
      "\n",
      "See the caveats in the documentation: https://pandas.pydata.org/pandas-docs/stable/user_guide/indexing.html#returning-a-view-versus-a-copy\n",
      "  out[\"result\"] = out.pred.map(toPred)\n"
     ]
    }
   ],
   "source": [
    "# Convert 0/1 result to written prediction\n",
    "\n",
    "out[\"result\"] = out.pred.map(toPred)\n",
    "outmax[\"result\"] = out.pred.map(toPred)"
   ]
  },
  {
   "cell_type": "code",
   "execution_count": 11,
   "id": "b8fccfb6-aaf7-4da6-be53-599a280edf22",
   "metadata": {},
   "outputs": [],
   "source": [
    "# Save predictions\n",
    "\n",
    "out.to_csv(\"predictionsMin.csv\")\n",
    "outmax.to_csv(\"predictionsAllCols.csv\")"
   ]
  },
  {
   "cell_type": "code",
   "execution_count": 12,
   "id": "1afb71c4-f05f-48e6-8b67-18f972dcefcd",
   "metadata": {},
   "outputs": [],
   "source": [
    "# write first few rows to csv\n",
    "\n",
    "out.iloc[1:20,].to_csv(\"predictionsHead.csv\")\n",
    "outmax.iloc[1:20,].to_csv(\"predictionsAllColsHead.csv\")"
   ]
  },
  {
   "cell_type": "code",
   "execution_count": null,
   "id": "8dbf199b-46e1-4ad1-98c4-01f530528777",
   "metadata": {},
   "outputs": [
    {
     "data": {
      "text/plain": [
       "954662"
      ]
     },
     "execution_count": 24,
     "metadata": {},
     "output_type": "execute_result"
    }
   ],
   "source": [
    "# Number of predicted benign variants\n",
    "\n",
    "len(out.loc[out[\"result\"] == \"predict_benign\"])"
   ]
  },
  {
   "cell_type": "code",
   "execution_count": null,
   "id": "3a7f5cfd-8525-49c1-bae1-2aa2d1481778",
   "metadata": {},
   "outputs": [
    {
     "data": {
      "text/plain": [
       "995382"
      ]
     },
     "execution_count": 25,
     "metadata": {},
     "output_type": "execute_result"
    }
   ],
   "source": [
    "# Number of predicted pathogenic variants\n",
    "\n",
    "len(out.loc[(out[\"result\"] == \"predict_pathogenic\")])"
   ]
  },
  {
   "cell_type": "code",
   "execution_count": null,
   "id": "abfbfc8e-131f-4a81-8f0a-2d94069b704a",
   "metadata": {},
   "outputs": [],
   "source": [
    "# Filter low confidence predictions\n",
    "\n",
    "pp = (outmax.loc[(out[\"result\"] == \"predict_pathogenic\")])\n",
    "pp = pp.loc[(pp[\"proba\"] > 0.75) | (pp[\"proba\"] < 0.25),:]"
   ]
  }
 ],
 "metadata": {
  "kernelspec": {
   "display_name": "Python 3 (ipykernel)",
   "language": "python",
   "name": "python3"
  },
  "language_info": {
   "codemirror_mode": {
    "name": "ipython",
    "version": 3
   },
   "file_extension": ".py",
   "mimetype": "text/x-python",
   "name": "python",
   "nbconvert_exporter": "python",
   "pygments_lexer": "ipython3",
   "version": "3.12.10"
  }
 },
 "nbformat": 4,
 "nbformat_minor": 5
}
